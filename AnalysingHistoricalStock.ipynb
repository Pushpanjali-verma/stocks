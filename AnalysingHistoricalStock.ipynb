{
  "metadata": {
    "kernelspec": {
      "name": "python",
      "display_name": "Python (Pyodide)",
      "language": "python"
    },
    "language_info": {
      "codemirror_mode": {
        "name": "python",
        "version": 3
      },
      "file_extension": ".py",
      "mimetype": "text/x-python",
      "name": "python",
      "nbconvert_exporter": "python",
      "pygments_lexer": "ipython3",
      "version": "3.8"
    }
  },
  "nbformat_minor": 5,
  "nbformat": 4,
  "cells": [
    {
      "id": "b51891c7-6163-4728-9946-19d8fccdf8e8",
      "cell_type": "code",
      "source": "\n!pip install yfinance\n!pip install beautifulsoup4\n!pip install pandas\n!pip install matplotlib\n!pip install lxml\n\nimport yfinance as yf\nimport pandas as pd\nimport matplotlib.pyplot as plt\nfrom bs4 import BeautifulSoup\nimport requests\n\n\ndef make_graph(stock_data, revenue_data, stock, title):\n    fig, ax1 = plt.subplots(figsize=(12, 6))\n\n    ax1.plot(stock_data['Date'], stock_data['Close'], color=\"blue\", label='Stock Price')\n    ax1.set_xlabel(\"Date\")\n    ax1.set_ylabel(\"Stock Price\", color=\"blue\")\n    ax1.tick_params(axis='y', labelcolor=\"blue\")\n    ax1.set_title(title)\n\n    ax2 = ax1.twinx()\n    ax2.plot(revenue_data['Date'], revenue_data['Revenue'], color=\"red\", label='Revenue')\n    ax2.set_ylabel(\"Revenue (in billions)\", color=\"red\")\n    ax2.tick_params(axis='y', labelcolor=\"red\")\n\n    fig.tight_layout()\n    plt.show()\n\n# -------------------------------\n# Question 1: Tesla Stock Data\n# -------------------------------\ntesla = yf.Ticker(\"TSLA\")\ntesla_data = tesla.history(period=\"max\")\ntesla_data.reset_index(inplace=True)\nprint(\"Tesla Stock Data (First 5 rows):\")\nprint(tesla_data.head())\n\n# -------------------------------\n# Question 2: Tesla Revenue Data\n# -------------------------------\nurl_tesla = \"https://www.macrotrends.net/stocks/charts/TSLA/tesla/revenue\"\nhtml_tesla = requests.get(url_tesla).text\nsoup_tesla = BeautifulSoup(html_tesla, \"html.parser\")\ntables = soup_tesla.find_all(\"table\")\n\ntesla_revenue = pd.DataFrame(columns=[\"Date\", \"Revenue\"])\nfor row in tables[1].find_all(\"tr\"):\n    cols = row.find_all(\"td\")\n    if len(cols) == 2:\n        date = cols[0].text.strip()\n        revenue = cols[1].text.strip().replace(\"$\", \"\").replace(\",\", \"\")\n        if revenue != \"\":\n            tesla_revenue = tesla_revenue.append({\"Date\": date, \"Revenue\": float(revenue)}, ignore_index=True)\n\ntesla_revenue[\"Date\"] = pd.to_datetime(tesla_revenue[\"Date\"])\ntesla_revenue = tesla_revenue.sort_values(\"Date\")\nprint(\"Tesla Revenue Data (Last 5 rows):\")\nprint(tesla_revenue.tail())\n\n# -------------------------------\n# Question 3: GME Stock Data\n# -------------------------------\ngme = yf.Ticker(\"GME\")\ngme_data = gme.history(period=\"max\")\ngme_data.reset_index(inplace=True)\nprint(\"GME Stock Data (First 5 rows):\")\nprint(gme_data.head())\n\n# -------------------------------\n# Question 4: GME Revenue Data\n# -------------------------------\nurl_gme = \"https://www.macrotrends.net/stocks/charts/GME/gamestop/revenue\"\nhtml_gme = requests.get(url_gme).text\nsoup_gme = BeautifulSoup(html_gme, \"html.parser\")\ntables = soup_gme.find_all(\"table\")\n\ngme_revenue = pd.DataFrame(columns=[\"Date\", \"Revenue\"])\nfor row in tables[1].find_all(\"tr\"):\n    cols = row.find_all(\"td\")\n    if len(cols) == 2:\n        date = cols[0].text.strip()\n        revenue = cols[1].text.strip().replace(\"$\", \"\").replace(\",\", \"\")\n        if revenue != \"\":\n            gme_revenue = gme_revenue.append({\"Date\": date, \"Revenue\": float(revenue)}, ignore_index=True)\n\ngme_revenue[\"Date\"] = pd.to_datetime(gme_revenue[\"Date\"])\ngme_revenue = gme_revenue.sort_values(\"Date\")\nprint(\"GME Revenue Data (Last 5 rows):\")\nprint(gme_revenue.tail())\n\n# -------------------------------\n# Question 5: Tesla Dashboard\n# -------------------------------\nmake_graph(tesla_data, tesla_revenue, 'TSLA', 'Tesla Stock Price vs Revenue')\n\n# -------------------------------\n# Question 6: GME Dashboard\n# -------------------------------\nmake_graph(gme_data, gme_revenue, 'GME', 'GameStop Stock Price vs Revenue')\n",
      "metadata": {
        "trusted": true
      },
      "outputs": [],
      "execution_count": null
    }
  ]
}